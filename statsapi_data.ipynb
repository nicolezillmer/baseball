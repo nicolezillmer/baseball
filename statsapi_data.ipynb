{
 "cells": [
  {
   "cell_type": "code",
   "execution_count": 39,
   "metadata": {},
   "outputs": [],
   "source": [
    "# Data from statsapi\n",
    "\n",
    "#Dependencies \n",
    "import pandas as pd\n",
    "import requests\n",
    "import json\n",
    "import statsapi\n"
   ]
  },
  {
   "cell_type": "code",
   "execution_count": 40,
   "metadata": {},
   "outputs": [
    {
     "name": "stdout",
     "output_type": "stream",
     "text": [
      "Rank Name                 Team                    Value\n",
      " 1   Sam Crawford         Detroit Tigers           309 \n",
      " 2   Ty Cobb              Philadelphia Athletics   297 \n",
      " 3   Honus Wagner                                  252 \n",
      " 4   Jake Beckley                                  243 \n",
      " 5   Roger Connor                                  233 \n",
      " 6   Tristram Speaker     Washington Senators      222 \n",
      " 7   Fred Clarke                                   220 \n",
      " 8   Dan Brouthers                                 205 \n",
      " 9   Joe Kelley                                    194 \n",
      " 10  Paul Waner           New York Yankees         191 \n",
      "\n"
     ]
    }
   ],
   "source": [
    "# testing api pull\n",
    "print(statsapi.league_leaders('triples',statGroup='hitting',limit=10,sportId=1,statType='career',season=2000*2020) )"
   ]
  },
  {
   "cell_type": "code",
   "execution_count": 41,
   "metadata": {},
   "outputs": [
    {
     "data": {
      "text/html": [
       "<div>\n",
       "<style scoped>\n",
       "    .dataframe tbody tr th:only-of-type {\n",
       "        vertical-align: middle;\n",
       "    }\n",
       "\n",
       "    .dataframe tbody tr th {\n",
       "        vertical-align: top;\n",
       "    }\n",
       "\n",
       "    .dataframe thead th {\n",
       "        text-align: right;\n",
       "    }\n",
       "</style>\n",
       "<table border=\"1\" class=\"dataframe\">\n",
       "  <thead>\n",
       "    <tr style=\"text-align: right;\">\n",
       "      <th></th>\n",
       "      <th>Franchise ID</th>\n",
       "      <th>Team ID</th>\n",
       "      <th>Full Team Name</th>\n",
       "      <th>First Year</th>\n",
       "      <th>Last Year</th>\n",
       "    </tr>\n",
       "  </thead>\n",
       "  <tbody>\n",
       "    <tr>\n",
       "      <th>0</th>\n",
       "      <td>Franchise ID</td>\n",
       "      <td>Team ID</td>\n",
       "      <td>Full Team Name</td>\n",
       "      <td>First Year</td>\n",
       "      <td>Last Year</td>\n",
       "    </tr>\n",
       "    <tr>\n",
       "      <th>1</th>\n",
       "      <td>ALT</td>\n",
       "      <td>ALT</td>\n",
       "      <td>Altoona Mountain City</td>\n",
       "      <td>1884</td>\n",
       "      <td>1884</td>\n",
       "    </tr>\n",
       "    <tr>\n",
       "      <th>2</th>\n",
       "      <td>ANA</td>\n",
       "      <td>ANA</td>\n",
       "      <td>Los Angeles Angels of Anaheim</td>\n",
       "      <td>1997</td>\n",
       "      <td>Present</td>\n",
       "    </tr>\n",
       "    <tr>\n",
       "      <th>3</th>\n",
       "      <td>ANA</td>\n",
       "      <td>CAL</td>\n",
       "      <td>California Angels</td>\n",
       "      <td>1965</td>\n",
       "      <td>1996</td>\n",
       "    </tr>\n",
       "    <tr>\n",
       "      <th>4</th>\n",
       "      <td>ANA</td>\n",
       "      <td>LAA</td>\n",
       "      <td>Los Angeles Angels</td>\n",
       "      <td>1961</td>\n",
       "      <td>1964</td>\n",
       "    </tr>\n",
       "  </tbody>\n",
       "</table>\n",
       "</div>"
      ],
      "text/plain": [
       "   Franchise ID  Team ID                 Full Team Name  First Year  Last Year\n",
       "0  Franchise ID  Team ID                 Full Team Name  First Year  Last Year\n",
       "1           ALT      ALT          Altoona Mountain City        1884       1884\n",
       "2           ANA      ANA  Los Angeles Angels of Anaheim        1997    Present\n",
       "3           ANA      CAL              California Angels        1965       1996\n",
       "4           ANA      LAA             Los Angeles Angels        1961       1964"
      ]
     },
     "execution_count": 41,
     "metadata": {},
     "output_type": "execute_result"
    }
   ],
   "source": [
    "team_url= 'https://www.baseball-reference.com/about/team_IDs.shtml'\n",
    "team_table = pd.read_html(team_url)\n",
    "team_df = team_table[0]\n",
    "team_df.columns = ['Franchise ID','Team ID','Full Team Name','First Year','Last Year']\n",
    "team_df.head()"
   ]
  },
  {
   "cell_type": "code",
   "execution_count": 42,
   "metadata": {},
   "outputs": [
    {
     "name": "stdout",
     "output_type": "stream",
     "text": [
      "    Franchise ID Team ID                 Full Team Name First Year Last Year\n",
      "2            ANA     ANA  Los Angeles Angels of Anaheim       1997   Present\n",
      "5            ARI     ARI           Arizona Diamondbacks       1998   Present\n",
      "7            ATL     ATL                 Atlanta Braves       1966   Present\n",
      "10           BAL     BAL              Baltimore Orioles       1954   Present\n",
      "21           BOS     BOS                 Boston Red Sox       1901   Present\n",
      "33           CHC     CHC                   Chicago Cubs       1876   Present\n",
      "36           CHW     CHW              Chicago White Sox       1901   Present\n",
      "37           CIN     CIN                Cincinnati Reds       1882   Present\n",
      "39           CLE     CLE              Cleveland Indians       1901   Present\n",
      "46           COL     COL               Colorado Rockies       1993   Present\n",
      "49           DET     DET                 Detroit Tigers       1901   Present\n",
      "53           FLA     MIA                  Miami Marlins       2012   Present\n",
      "56           HOU     HOU                 Houston Astros       1962   Present\n",
      "63           KCR     KCR             Kansas City Royals       1969   Present\n",
      "67           LAD     LAD            Los Angeles Dodgers       1958   Present\n",
      "72           MIL     MIL              Milwaukee Brewers       1970   Present\n",
      "74           MIN     MIN                Minnesota Twins       1961   Present\n",
      "85           NYM     NYM                  New York Mets       1962   Present\n",
      "89           NYY     NYY               New York Yankees       1903   Present\n",
      "91           OAK     OAK              Oakland Athletics       1968   Present\n",
      "97           PHI     PHI          Philadelphia Phillies       1883   Present\n",
      "101          PIT     PIT             Pittsburgh Pirates       1882   Present\n",
      "110          SDP     SDP               San Diego Padres       1969   Present\n",
      "111          SEA     SEA               Seattle Mariners       1977   Present\n",
      "113          SFG     SFG           San Francisco Giants       1958   Present\n",
      "118          STL     STL            St. Louis Cardinals       1882   Present\n",
      "123          TBD     TBR                 Tampa Bay Rays       2008   Present\n",
      "124          TEX     TEX                  Texas Rangers       1972   Present\n",
      "128          TOR     TOR              Toronto Blue Jays       1977   Present\n",
      "137          WSN     WSN           Washington Nationals       2005   Present\n"
     ]
    },
    {
     "data": {
      "text/plain": [
       "Franchise ID      30\n",
       "Team ID           30\n",
       "Full Team Name    30\n",
       "First Year        30\n",
       "Last Year         30\n",
       "dtype: int64"
      ]
     },
     "execution_count": 42,
     "metadata": {},
     "output_type": "execute_result"
    }
   ],
   "source": [
    "state_code=team_df[team_df['Last Year'] == 'Present' ]\n",
    "print(state_code)\n",
    "state_code.count()"
   ]
  },
  {
   "cell_type": "code",
   "execution_count": 43,
   "metadata": {},
   "outputs": [
    {
     "data": {
      "text/plain": [
       "30"
      ]
     },
     "execution_count": 43,
     "metadata": {},
     "output_type": "execute_result"
    }
   ],
   "source": [
    "stcode=state_code['Franchise ID']\n",
    "w=stcode.values.tolist()\n",
    "len(w)"
   ]
  },
  {
   "cell_type": "code",
   "execution_count": 44,
   "metadata": {},
   "outputs": [
    {
     "name": "stdout",
     "output_type": "stream",
     "text": [
      "108\n",
      "136\n",
      "144\n",
      "110\n",
      "111\n",
      "112\n",
      "An exception occurred\n",
      "113\n",
      "114\n",
      "115\n",
      "116\n",
      "An exception occurred\n",
      "117\n",
      "An exception occurred\n",
      "143\n",
      "158\n",
      "142\n",
      "121\n",
      "147\n",
      "133\n",
      "143\n",
      "134\n",
      "An exception occurred\n",
      "136\n",
      "An exception occurred\n",
      "138\n",
      "An exception occurred\n",
      "140\n",
      "141\n",
      "An exception occurred\n",
      "['ana', 'sea', 'atl', 'bal', 'bos', 'chn', 'cin', 'cle', 'col', 'det', 'hou', 'phi', 'mil', 'min', 'nyn', 'nya', 'oak', 'phi', 'pit', 'sea', 'sln', 'tex', 'tor']\n"
     ]
    }
   ],
   "source": [
    "confirmed_team=[]\n",
    "team=[]\n",
    "for code in w:\n",
    "    try:\n",
    "        team.append(statsapi.lookup_team(code)[0]['id'])\n",
    "        confirmed_team.append(statsapi.lookup_team(code)[0]['teamCode'])\n",
    "        print(statsapi.lookup_team(code)[0]['id'])\n",
    "    #print(statsapi.lookup_team(code))\n",
    "    except:\n",
    "          print(\"An exception occurred\")\n",
    "print(confirmed_team)"
   ]
  },
  {
   "cell_type": "code",
   "execution_count": 45,
   "metadata": {},
   "outputs": [
    {
     "name": "stdout",
     "output_type": "stream",
     "text": [
      "[{'id': 108, 'name': 'Los Angeles Angels', 'teamCode': 'ana', 'fileCode': 'ana', 'teamName': 'Angels', 'locationName': 'Anaheim', 'shortName': 'LA Angels'}]\n",
      "[{'id': 136, 'name': 'Seattle Mariners', 'teamCode': 'sea', 'fileCode': 'sea', 'teamName': 'Mariners', 'locationName': 'Seattle', 'shortName': 'Seattle'}, {'id': 109, 'name': 'Arizona Diamondbacks', 'teamCode': 'ari', 'fileCode': 'ari', 'teamName': 'D-backs', 'locationName': 'Phoenix', 'shortName': 'Arizona'}]\n",
      "[{'id': 144, 'name': 'Atlanta Braves', 'teamCode': 'atl', 'fileCode': 'atl', 'teamName': 'Braves', 'locationName': 'Atlanta', 'shortName': 'Atlanta'}]\n",
      "[{'id': 110, 'name': 'Baltimore Orioles', 'teamCode': 'bal', 'fileCode': 'bal', 'teamName': 'Orioles', 'locationName': 'Baltimore', 'shortName': 'Baltimore'}]\n",
      "[{'id': 111, 'name': 'Boston Red Sox', 'teamCode': 'bos', 'fileCode': 'bos', 'teamName': 'Red Sox', 'locationName': 'Boston', 'shortName': 'Boston'}]\n",
      "[{'id': 112, 'name': 'Chicago Cubs', 'teamCode': 'chn', 'fileCode': 'chc', 'teamName': 'Cubs', 'locationName': 'Chicago', 'shortName': 'Chi Cubs'}]\n",
      "[]\n",
      "[{'id': 113, 'name': 'Cincinnati Reds', 'teamCode': 'cin', 'fileCode': 'cin', 'teamName': 'Reds', 'locationName': 'Cincinnati', 'shortName': 'Cincinnati'}]\n",
      "[{'id': 114, 'name': 'Cleveland Indians', 'teamCode': 'cle', 'fileCode': 'cle', 'teamName': 'Indians', 'locationName': 'Cleveland', 'shortName': 'Cleveland'}]\n",
      "[{'id': 115, 'name': 'Colorado Rockies', 'teamCode': 'col', 'fileCode': 'col', 'teamName': 'Rockies', 'locationName': 'Denver', 'shortName': 'Colorado'}]\n",
      "[{'id': 116, 'name': 'Detroit Tigers', 'teamCode': 'det', 'fileCode': 'det', 'teamName': 'Tigers', 'locationName': 'Detroit', 'shortName': 'Detroit'}]\n",
      "[]\n",
      "[{'id': 117, 'name': 'Houston Astros', 'teamCode': 'hou', 'fileCode': 'hou', 'teamName': 'Astros', 'locationName': 'Houston', 'shortName': 'Houston'}]\n",
      "[]\n",
      "[{'id': 143, 'name': 'Philadelphia Phillies', 'teamCode': 'phi', 'fileCode': 'phi', 'teamName': 'Phillies', 'locationName': 'Philadelphia', 'shortName': 'Philadelphia'}]\n",
      "[{'id': 158, 'name': 'Milwaukee Brewers', 'teamCode': 'mil', 'fileCode': 'mil', 'teamName': 'Brewers', 'locationName': 'Milwaukee', 'shortName': 'Milwaukee'}]\n",
      "[{'id': 142, 'name': 'Minnesota Twins', 'teamCode': 'min', 'fileCode': 'min', 'teamName': 'Twins', 'locationName': 'Minneapolis', 'shortName': 'Minnesota'}]\n",
      "[{'id': 121, 'name': 'New York Mets', 'teamCode': 'nyn', 'fileCode': 'nym', 'teamName': 'Mets', 'locationName': 'Flushing', 'shortName': 'NY Mets'}]\n",
      "[{'id': 147, 'name': 'New York Yankees', 'teamCode': 'nya', 'fileCode': 'nyy', 'teamName': 'Yankees', 'locationName': 'Bronx', 'shortName': 'NY Yankees'}]\n",
      "[{'id': 133, 'name': 'Oakland Athletics', 'teamCode': 'oak', 'fileCode': 'oak', 'teamName': 'Athletics', 'locationName': 'Oakland', 'shortName': 'Oakland'}]\n",
      "[{'id': 143, 'name': 'Philadelphia Phillies', 'teamCode': 'phi', 'fileCode': 'phi', 'teamName': 'Phillies', 'locationName': 'Philadelphia', 'shortName': 'Philadelphia'}]\n",
      "[{'id': 134, 'name': 'Pittsburgh Pirates', 'teamCode': 'pit', 'fileCode': 'pit', 'teamName': 'Pirates', 'locationName': 'Pittsburgh', 'shortName': 'Pittsburgh'}]\n",
      "[]\n",
      "[{'id': 136, 'name': 'Seattle Mariners', 'teamCode': 'sea', 'fileCode': 'sea', 'teamName': 'Mariners', 'locationName': 'Seattle', 'shortName': 'Seattle'}]\n",
      "[]\n",
      "[{'id': 138, 'name': 'St. Louis Cardinals', 'teamCode': 'sln', 'fileCode': 'stl', 'teamName': 'Cardinals', 'locationName': 'St. Louis', 'shortName': 'St. Louis'}]\n",
      "[]\n",
      "[{'id': 140, 'name': 'Texas Rangers', 'teamCode': 'tex', 'fileCode': 'tex', 'teamName': 'Rangers', 'locationName': 'Arlington', 'shortName': 'Texas'}]\n",
      "[{'id': 141, 'name': 'Toronto Blue Jays', 'teamCode': 'tor', 'fileCode': 'tor', 'teamName': 'Blue Jays', 'locationName': 'Toronto', 'shortName': 'Toronto'}]\n",
      "[]\n"
     ]
    }
   ],
   "source": [
    "for code in w:\n",
    "    statsapi.lookup_team(code)\n",
    "    print(statsapi.lookup_team(code))"
   ]
  },
  {
   "cell_type": "code",
   "execution_count": null,
   "metadata": {},
   "outputs": [],
   "source": []
  }
 ],
 "metadata": {
  "kernelspec": {
   "display_name": "Python [conda env:PythonData] *",
   "language": "python",
   "name": "conda-env-PythonData-py"
  },
  "language_info": {
   "codemirror_mode": {
    "name": "ipython",
    "version": 3
   },
   "file_extension": ".py",
   "mimetype": "text/x-python",
   "name": "python",
   "nbconvert_exporter": "python",
   "pygments_lexer": "ipython3",
   "version": "3.6.10"
  }
 },
 "nbformat": 4,
 "nbformat_minor": 4
}
