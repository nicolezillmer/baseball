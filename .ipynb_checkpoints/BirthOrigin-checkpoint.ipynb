{
 "cells": [
  {
   "cell_type": "code",
   "execution_count": 1,
   "metadata": {},
   "outputs": [],
   "source": [
    "            # ******THIS DATA IS FROM STATS API\n",
    "#Dependencies \n",
    "import pandas as pd\n",
    "import requests\n",
    "import json\n",
    "import statsapi\n"
   ]
  },
  {
   "cell_type": "code",
   "execution_count": 2,
   "metadata": {},
   "outputs": [
    {
     "name": "stdout",
     "output_type": "stream",
     "text": [
      "541640\n"
     ]
    }
   ],
   "source": [
    "player = statsapi.lookup_player('Ramirez')\n",
    "print(player[0]['id'])"
   ]
  },
  {
   "cell_type": "code",
   "execution_count": 3,
   "metadata": {},
   "outputs": [
    {
     "name": "stdout",
     "output_type": "stream",
     "text": [
      "Full name: Liam Hendriks, Position: P\n",
      "Full name: Daniel Johnson, Position: RF\n",
      "Full name: Pierce Johnson, Position: P\n"
     ]
    }
   ],
   "source": [
    "for player in statsapi.lookup_player('Johnson'):\n",
    "    print('Full name: {}, Position: {}'.format(player['fullName'], player['primaryPosition']['abbreviation']))"
   ]
  },
  {
   "cell_type": "code",
   "execution_count": 4,
   "metadata": {},
   "outputs": [],
   "source": [
    "# THIS SPACE IS INTENTIONAL "
   ]
  },
  {
   "cell_type": "code",
   "execution_count": 5,
   "metadata": {},
   "outputs": [],
   "source": [
    "# THIS SPACE IS INTENTIONAL "
   ]
  },
  {
   "cell_type": "code",
   "execution_count": 6,
   "metadata": {},
   "outputs": [
    {
     "ename": "SyntaxError",
     "evalue": "invalid syntax (<ipython-input-6-5aaad8e7d96f>, line 37)",
     "output_type": "error",
     "traceback": [
      "\u001b[0;36m  File \u001b[0;32m\"<ipython-input-6-5aaad8e7d96f>\"\u001b[0;36m, line \u001b[0;32m37\u001b[0m\n\u001b[0;31m    endpoint_url = base_url + json/named.search_player_all.bam?sport_code='mlb'&active_sw='N'&name_display_first_last='{player_name}'&search_player_all.col_ex=player_id\u001b[0m\n\u001b[0m                                                              ^\u001b[0m\n\u001b[0;31mSyntaxError\u001b[0m\u001b[0;31m:\u001b[0m invalid syntax\n"
     ]
    }
   ],
   "source": [
    "# ********THIS IS FROM MLB DATA API: https://appac.github.io/mlb-data-api-docs/#header-getting-started\n",
    "# Dependencies\n",
    "import requests\n",
    "import json\n",
    "\n",
    "\n",
    "player_name = [\"Pedro Martinez\",\n",
    "\"Kevin Brown\",\n",
    "\"Randy Johnson\",\n",
    "\"Jeff C. D'Amico\",\n",
    "\"Greg Maddux\",\n",
    "\"Mike Hampton\",\n",
    "\"Al Leiter\",\n",
    "\"Chan Ho Park\",\n",
    "\"Tom Glavine\",\n",
    "\"Rick Ankiel\",\n",
    "\"Robert Person\",\n",
    "\"Ryan Dempster\",\n",
    "\"Roger Clemens\",\n",
    "\"Woody Williams\",\n",
    "\"Livan Hernandez\",\n",
    "\"Mike Mussina\",\n",
    "\"Mike Sirotka\"]\n",
    "\n",
    "\n",
    "base_url = \"http://lookup-service-prod.mlb.com/\"\n",
    "# example http://lookup-service-prod.mlb.com/json/named.search_player_all.bam?sport_code='mlb'&active_sw='Y'&name_part='young%'&search_player_all.col_ex=player_id\n",
    "\n",
    "\n",
    "# set up lists \n",
    "date_of_birth = []\n",
    "birth_country = []\n",
    "\n",
    "\n",
    "# loop through players name to pull dob and birth country data\n",
    "for players in player_name:\n",
    "    endpoint_url = base_url + json/named.search_player_all.bam?sport_code='mlb'&active_sw='N'&name_display_first_last='{player_name}'&search_player_all.col_ex=player_id\n",
    "    response = requests.get(endpoint_url).json()\n",
    "    date_of_birth.append(response[0]['show']['name_display_first_last]'['birth_date'])\n",
    "    birth_country.append(response[0]['show']['name_display_first_last']['birth_date']['birth_country'])\n"
   ]
  },
  {
   "cell_type": "code",
   "execution_count": null,
   "metadata": {},
   "outputs": [],
   "source": []
  }
 ],
 "metadata": {
  "kernelspec": {
   "display_name": "Python 3",
   "language": "python",
   "name": "python3"
  },
  "language_info": {
   "codemirror_mode": {
    "name": "ipython",
    "version": 3
   },
   "file_extension": ".py",
   "mimetype": "text/x-python",
   "name": "python",
   "nbconvert_exporter": "python",
   "pygments_lexer": "ipython3",
   "version": "3.8.3"
  }
 },
 "nbformat": 4,
 "nbformat_minor": 4
}
