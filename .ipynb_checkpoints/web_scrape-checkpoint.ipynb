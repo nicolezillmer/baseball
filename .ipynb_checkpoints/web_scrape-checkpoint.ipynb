{
 "cells": [
  {
   "cell_type": "code",
   "execution_count": null,
   "metadata": {},
   "outputs": [],
   "source": [
    "import pandas as pd\n",
    "import re\n",
    "import requests\n",
    "from bs4 import BeautifulSoup"
   ]
  },
  {
   "cell_type": "code",
   "execution_count": null,
   "metadata": {},
   "outputs": [],
   "source": [
    "url = \"https://www.espn.com/mlb/history/leaders/_/breakdown/season/year/2018/start/1\"\n",
    "page = requests.get(url)\n",
    "soup = BeautifulSoup(page.text, 'html.parser')"
   ]
  },
  {
   "cell_type": "code",
   "execution_count": null,
   "metadata": {},
   "outputs": [],
   "source": [
    "header = soup.find('tr', attrs={'class':'colhead'})\n",
    "\n",
    "columns = [col.get_text() for col in header.find_all('td')]\n",
    "\n",
    "final_df = pd.DataFrame(columns=columns)\n",
    "final_df"
   ]
  },
  {
   "cell_type": "code",
   "execution_count": null,
   "metadata": {},
   "outputs": [],
   "source": [
    "final_df =pd.DataFrame(columns=final_df.columns)\n",
    "for i in range(1,500,50):\n",
    "\n",
    "    url = \"https://www.espn.com/mlb/history/leaders/_/breakdown/season/year/2019/start/{}\".format(i)\n",
    "    page = requests.get(url)\n",
    "    soup = BeautifulSoup(page.text, 'html.parser')\n",
    "\n",
    "    players = soup.find_all('tr', attrs={'class':re.compile('row player-10-')})\n",
    "    for player in players:\n",
    "\n",
    "        stats = [stat.get_text() for stat in player.find_all('td')]\n",
    "\n",
    "        temp_df = pd.DataFrame(stats).transpose()\n",
    "        temp_df.columns = columns\n",
    "\n",
    "        final_df = pd.concat([final_df, temp_df], ignore_index=True)\n",
    "\n",
    "season2019_df = final_df\n",
    "season2019_df"
   ]
  },
  {
   "cell_type": "code",
   "execution_count": null,
   "metadata": {},
   "outputs": [],
   "source": [
    "season2019_df.to_csv('scraped_data/2019_stats.csv', index=False, sep=',', encoding='utf-8')"
   ]
  },
  {
   "cell_type": "code",
   "execution_count": null,
   "metadata": {},
   "outputs": [],
   "source": [
    "# Resets final_df to en empty df\n",
    "final_df =pd.DataFrame(columns=final_df.columns)\n",
    "for i in range(1,500,50):\n",
    "\n",
    "    url = \"https://www.espn.com/mlb/history/leaders/_/breakdown/season/year/2018/start/{}\".format(i)\n",
    "    page = requests.get(url)\n",
    "    soup = BeautifulSoup(page.text, 'html.parser')\n",
    "\n",
    "    players = soup.find_all('tr', attrs={'class':re.compile('row player-10-')})\n",
    "    for player in players:\n",
    "\n",
    "        stats = [stat.get_text() for stat in player.find_all('td')]\n",
    "\n",
    "        temp_df = pd.DataFrame(stats).transpose()\n",
    "        temp_df.columns = columns\n",
    "\n",
    "        final_df = pd.concat([final_df, temp_df], ignore_index=True)\n",
    "\n",
    "season2018_df = final_df\n",
    "season2018_df"
   ]
  },
  {
   "cell_type": "code",
   "execution_count": null,
   "metadata": {},
   "outputs": [],
   "source": [
    "season2018_df.to_csv('scraped_data/2018_stats.csv', index=False, sep=',', encoding='utf-8')"
   ]
  },
  {
   "cell_type": "code",
   "execution_count": null,
   "metadata": {},
   "outputs": [],
   "source": [
    "final_df =pd.DataFrame(columns=final_df.columns)\n",
    "for i in range(1,500,50):\n",
    "\n",
    "    url = \"https://www.espn.com/mlb/history/leaders/_/breakdown/season/year/2017/start/{}\".format(i)\n",
    "    page = requests.get(url)\n",
    "    soup = BeautifulSoup(page.text, 'html.parser')\n",
    "\n",
    "    players = soup.find_all('tr', attrs={'class':re.compile('row player-10-')})\n",
    "    for player in players:\n",
    "\n",
    "        stats = [stat.get_text() for stat in player.find_all('td')]\n",
    "\n",
    "        temp_df = pd.DataFrame(stats).transpose()\n",
    "        temp_df.columns = columns\n",
    "\n",
    "        final_df = pd.concat([final_df, temp_df], ignore_index=True)\n",
    "\n",
    "season2017_df = final_df\n",
    "season2017_df"
   ]
  },
  {
   "cell_type": "code",
   "execution_count": null,
   "metadata": {},
   "outputs": [],
   "source": [
    "season2017_df.to_csv('scraped_data/2017_stats.csv', index=False, sep=',', encoding='utf-8')"
   ]
  },
  {
   "cell_type": "code",
   "execution_count": null,
   "metadata": {},
   "outputs": [],
   "source": [
    "final_df =pd.DataFrame(columns=final_df.columns)\n",
    "for i in range(1,500,50):\n",
    "\n",
    "    url = \"https://www.espn.com/mlb/history/leaders/_/breakdown/season/year/2016/start/{}\".format(i)\n",
    "    page = requests.get(url)\n",
    "    soup = BeautifulSoup(page.text, 'html.parser')\n",
    "\n",
    "    players = soup.find_all('tr', attrs={'class':re.compile('row player-10-')})\n",
    "    for player in players:\n",
    "\n",
    "        stats = [stat.get_text() for stat in player.find_all('td')]\n",
    "\n",
    "        temp_df = pd.DataFrame(stats).transpose()\n",
    "        temp_df.columns = columns\n",
    "\n",
    "        final_df = pd.concat([final_df, temp_df], ignore_index=True)\n",
    "\n",
    "season2016_df = final_df\n",
    "season2016_df"
   ]
  },
  {
   "cell_type": "code",
   "execution_count": null,
   "metadata": {},
   "outputs": [],
   "source": [
    "season2016_df.to_csv('scraped_data/2016_stats.csv', index=False, sep=',', encoding='utf-8')"
   ]
  },
  {
   "cell_type": "code",
   "execution_count": null,
   "metadata": {},
   "outputs": [],
   "source": [
    "final_df =pd.DataFrame(columns=final_df.columns)\n",
    "for i in range(1,500,50):\n",
    "\n",
    "    url = \"https://www.espn.com/mlb/history/leaders/_/breakdown/season/year/2015/start/{}\".format(i)\n",
    "    page = requests.get(url)\n",
    "    soup = BeautifulSoup(page.text, 'html.parser')\n",
    "\n",
    "    players = soup.find_all('tr', attrs={'class':re.compile('row player-10-')})\n",
    "    for player in players:\n",
    "\n",
    "        stats = [stat.get_text() for stat in player.find_all('td')]\n",
    "\n",
    "        temp_df = pd.DataFrame(stats).transpose()\n",
    "        temp_df.columns = columns\n",
    "\n",
    "        final_df = pd.concat([final_df, temp_df], ignore_index=True)\n",
    "\n",
    "season2015_df = final_df\n",
    "season2015_df"
   ]
  },
  {
   "cell_type": "code",
   "execution_count": null,
   "metadata": {},
   "outputs": [],
   "source": [
    "season2015_df.to_csv('scraped_data/2015_stats.csv', index=False, sep=',', encoding='utf-8')"
   ]
  },
  {
   "cell_type": "code",
   "execution_count": null,
   "metadata": {},
   "outputs": [],
   "source": [
    "final_df =pd.DataFrame(columns=final_df.columns)\n",
    "for i in range(1,500,50):\n",
    "\n",
    "    url = \"https://www.espn.com/mlb/history/leaders/_/breakdown/season/year/2014/start/{}\".format(i)\n",
    "    page = requests.get(url)\n",
    "    soup = BeautifulSoup(page.text, 'html.parser')\n",
    "\n",
    "    players = soup.find_all('tr', attrs={'class':re.compile('row player-10-')})\n",
    "    for player in players:\n",
    "\n",
    "        stats = [stat.get_text() for stat in player.find_all('td')]\n",
    "\n",
    "        temp_df = pd.DataFrame(stats).transpose()\n",
    "        temp_df.columns = columns\n",
    "\n",
    "        final_df = pd.concat([final_df, temp_df], ignore_index=True)\n",
    "\n",
    "season2014_df = final_df\n",
    "season2014_df"
   ]
  },
  {
   "cell_type": "code",
   "execution_count": null,
   "metadata": {},
   "outputs": [],
   "source": [
    "season2014_df.to_csv('scraped_data/2014_stats.csv', index=False, sep=',', encoding='utf-8')"
   ]
  },
  {
   "cell_type": "code",
   "execution_count": null,
   "metadata": {},
   "outputs": [],
   "source": [
    "final_df =pd.DataFrame(columns=final_df.columns)\n",
    "for i in range(1,500,50):\n",
    "\n",
    "    url = \"https://www.espn.com/mlb/history/leaders/_/breakdown/season/year/2013/start/{}\".format(i)\n",
    "    page = requests.get(url)\n",
    "    soup = BeautifulSoup(page.text, 'html.parser')\n",
    "\n",
    "    players = soup.find_all('tr', attrs={'class':re.compile('row player-10-')})\n",
    "    for player in players:\n",
    "\n",
    "        stats = [stat.get_text() for stat in player.find_all('td')]\n",
    "\n",
    "        temp_df = pd.DataFrame(stats).transpose()\n",
    "        temp_df.columns = columns\n",
    "\n",
    "        final_df = pd.concat([final_df, temp_df], ignore_index=True)\n",
    "\n",
    "season2013_df = final_df\n",
    "season2013_df"
   ]
  },
  {
   "cell_type": "code",
   "execution_count": null,
   "metadata": {},
   "outputs": [],
   "source": [
    "season2013_df.to_csv('scraped_data/2013_stats.csv', index=False, sep=',', encoding='utf-8')"
   ]
  },
  {
   "cell_type": "code",
   "execution_count": null,
   "metadata": {},
   "outputs": [],
   "source": [
    "final_df =pd.DataFrame(columns=final_df.columns)\n",
    "for i in range(1,500,50):\n",
    "\n",
    "    url = \"https://www.espn.com/mlb/history/leaders/_/breakdown/season/year/2012/start/{}\".format(i)\n",
    "    page = requests.get(url)\n",
    "    soup = BeautifulSoup(page.text, 'html.parser')\n",
    "\n",
    "    players = soup.find_all('tr', attrs={'class':re.compile('row player-10-')})\n",
    "    for player in players:\n",
    "\n",
    "        stats = [stat.get_text() for stat in player.find_all('td')]\n",
    "\n",
    "        temp_df = pd.DataFrame(stats).transpose()\n",
    "        temp_df.columns = columns\n",
    "\n",
    "        final_df = pd.concat([final_df, temp_df], ignore_index=True)\n",
    "\n",
    "season2012_df = final_df\n",
    "season2012_df"
   ]
  },
  {
   "cell_type": "code",
   "execution_count": null,
   "metadata": {},
   "outputs": [],
   "source": [
    "season2012_df.to_csv('scraped_data/2012_stats.csv', index=False, sep=',', encoding='utf-8')"
   ]
  },
  {
   "cell_type": "code",
   "execution_count": null,
   "metadata": {},
   "outputs": [],
   "source": [
    "final_df =pd.DataFrame(columns=final_df.columns)\n",
    "for i in range(1,500,50):\n",
    "\n",
    "    url = \"https://www.espn.com/mlb/history/leaders/_/breakdown/season/year/2011/start/{}\".format(i)\n",
    "    page = requests.get(url)\n",
    "    soup = BeautifulSoup(page.text, 'html.parser')\n",
    "\n",
    "    players = soup.find_all('tr', attrs={'class':re.compile('row player-10-')})\n",
    "    for player in players:\n",
    "\n",
    "        stats = [stat.get_text() for stat in player.find_all('td')]\n",
    "\n",
    "        temp_df = pd.DataFrame(stats).transpose()\n",
    "        temp_df.columns = columns\n",
    "\n",
    "        final_df = pd.concat([final_df, temp_df], ignore_index=True)\n",
    "\n",
    "season2011_df = final_df\n",
    "season2011_df"
   ]
  },
  {
   "cell_type": "code",
   "execution_count": null,
   "metadata": {},
   "outputs": [],
   "source": [
    "season2011_df.to_csv('scraped_data/2011_stats.csv', index=False, sep=',', encoding='utf-8')"
   ]
  },
  {
   "cell_type": "code",
   "execution_count": null,
   "metadata": {},
   "outputs": [],
   "source": [
    "final_df =pd.DataFrame(columns=final_df.columns)\n",
    "for i in range(1,500,50):\n",
    "\n",
    "    url = \"https://www.espn.com/mlb/history/leaders/_/breakdown/season/year/2010/start/{}\".format(i)\n",
    "    page = requests.get(url)\n",
    "    soup = BeautifulSoup(page.text, 'html.parser')\n",
    "\n",
    "    players = soup.find_all('tr', attrs={'class':re.compile('row player-10-')})\n",
    "    for player in players:\n",
    "\n",
    "        stats = [stat.get_text() for stat in player.find_all('td')]\n",
    "\n",
    "        temp_df = pd.DataFrame(stats).transpose()\n",
    "        temp_df.columns = columns\n",
    "\n",
    "        final_df = pd.concat([final_df, temp_df], ignore_index=True)\n",
    "\n",
    "season2010_df = final_df\n",
    "season2010_df"
   ]
  },
  {
   "cell_type": "code",
   "execution_count": null,
   "metadata": {},
   "outputs": [],
   "source": [
    "season2010_df.to_csv('scraped_data/2010_stats.csv', index=False, sep=',', encoding='utf-8')"
   ]
  },
  {
   "cell_type": "code",
   "execution_count": null,
   "metadata": {},
   "outputs": [],
   "source": [
    "final_df =pd.DataFrame(columns=final_df.columns)\n",
    "for i in range(1,500,50):\n",
    "\n",
    "    url = \"https://www.espn.com/mlb/history/leaders/_/breakdown/season/year/2009/start/{}\".format(i)\n",
    "    page = requests.get(url)\n",
    "    soup = BeautifulSoup(page.text, 'html.parser')\n",
    "\n",
    "    players = soup.find_all('tr', attrs={'class':re.compile('row player-10-')})\n",
    "    for player in players:\n",
    "\n",
    "        stats = [stat.get_text() for stat in player.find_all('td')]\n",
    "\n",
    "        temp_df = pd.DataFrame(stats).transpose()\n",
    "        temp_df.columns = columns\n",
    "\n",
    "        final_df = pd.concat([final_df, temp_df], ignore_index=True)\n",
    "\n",
    "season2009_df = final_df\n",
    "season2009_df"
   ]
  },
  {
   "cell_type": "code",
   "execution_count": null,
   "metadata": {},
   "outputs": [],
   "source": [
    "season2009_df.to_csv('scraped_data/2009_stats.csv', index=False, sep=',', encoding='utf-8')"
   ]
  },
  {
   "cell_type": "code",
   "execution_count": null,
   "metadata": {},
   "outputs": [],
   "source": [
    "final_df =pd.DataFrame(columns=final_df.columns)\n",
    "for i in range(1,500,50):\n",
    "\n",
    "    url = \"https://www.espn.com/mlb/history/leaders/_/breakdown/season/year/2008/start/{}\".format(i)\n",
    "    page = requests.get(url)\n",
    "    soup = BeautifulSoup(page.text, 'html.parser')\n",
    "\n",
    "    players = soup.find_all('tr', attrs={'class':re.compile('row player-10-')})\n",
    "    for player in players:\n",
    "\n",
    "        stats = [stat.get_text() for stat in player.find_all('td')]\n",
    "\n",
    "        temp_df = pd.DataFrame(stats).transpose()\n",
    "        temp_df.columns = columns\n",
    "\n",
    "        final_df = pd.concat([final_df, temp_df], ignore_index=True)\n",
    "\n",
    "season2008_df = final_df\n",
    "season2008_df"
   ]
  },
  {
   "cell_type": "code",
   "execution_count": null,
   "metadata": {},
   "outputs": [],
   "source": [
    "season2008_df.to_csv('scraped_data/2008_stats.csv', index=False, sep=',', encoding='utf-8')"
   ]
  },
  {
   "cell_type": "code",
   "execution_count": null,
   "metadata": {},
   "outputs": [],
   "source": [
    "final_df =pd.DataFrame(columns=final_df.columns)\n",
    "for i in range(1,500,50):\n",
    "\n",
    "    url = \"https://www.espn.com/mlb/history/leaders/_/breakdown/season/year/2007/start/{}\".format(i)\n",
    "    page = requests.get(url)\n",
    "    soup = BeautifulSoup(page.text, 'html.parser')\n",
    "\n",
    "    players = soup.find_all('tr', attrs={'class':re.compile('row player-10-')})\n",
    "    for player in players:\n",
    "\n",
    "        stats = [stat.get_text() for stat in player.find_all('td')]\n",
    "\n",
    "        temp_df = pd.DataFrame(stats).transpose()\n",
    "        temp_df.columns = columns\n",
    "\n",
    "        final_df = pd.concat([final_df, temp_df], ignore_index=True)\n",
    "\n",
    "season2007_df = final_df\n",
    "season2007_df"
   ]
  },
  {
   "cell_type": "code",
   "execution_count": null,
   "metadata": {},
   "outputs": [],
   "source": [
    "season2007_df.to_csv('scraped_data/2007_stats.csv', index=False, sep=',', encoding='utf-8')"
   ]
  },
  {
   "cell_type": "code",
   "execution_count": null,
   "metadata": {},
   "outputs": [],
   "source": [
    "final_df =pd.DataFrame(columns=final_df.columns)\n",
    "for i in range(1,500,50):\n",
    "\n",
    "    url = \"https://www.espn.com/mlb/history/leaders/_/breakdown/season/year/2006/start/{}\".format(i)\n",
    "    page = requests.get(url)\n",
    "    soup = BeautifulSoup(page.text, 'html.parser')\n",
    "\n",
    "    players = soup.find_all('tr', attrs={'class':re.compile('row player-10-')})\n",
    "    for player in players:\n",
    "\n",
    "        stats = [stat.get_text() for stat in player.find_all('td')]\n",
    "\n",
    "        temp_df = pd.DataFrame(stats).transpose()\n",
    "        temp_df.columns = columns\n",
    "\n",
    "        final_df = pd.concat([final_df, temp_df], ignore_index=True)\n",
    "\n",
    "season2006_df = final_df\n",
    "season2006_df"
   ]
  },
  {
   "cell_type": "code",
   "execution_count": null,
   "metadata": {},
   "outputs": [],
   "source": [
    "season2006_df.to_csv('scraped_data/2006_stats.csv', index=False, sep=',', encoding='utf-8')"
   ]
  },
  {
   "cell_type": "code",
   "execution_count": null,
   "metadata": {},
   "outputs": [],
   "source": [
    "final_df =pd.DataFrame(columns=final_df.columns)\n",
    "for i in range(1,500,50):\n",
    "\n",
    "    url = \"https://www.espn.com/mlb/history/leaders/_/breakdown/season/year/2005/start/{}\".format(i)\n",
    "    page = requests.get(url)\n",
    "    soup = BeautifulSoup(page.text, 'html.parser')\n",
    "\n",
    "    players = soup.find_all('tr', attrs={'class':re.compile('row player-10-')})\n",
    "    for player in players:\n",
    "\n",
    "        stats = [stat.get_text() for stat in player.find_all('td')]\n",
    "\n",
    "        temp_df = pd.DataFrame(stats).transpose()\n",
    "        temp_df.columns = columns\n",
    "\n",
    "        final_df = pd.concat([final_df, temp_df], ignore_index=True)\n",
    "\n",
    "season2005_df = final_df\n",
    "season2005_df"
   ]
  },
  {
   "cell_type": "code",
   "execution_count": null,
   "metadata": {},
   "outputs": [],
   "source": [
    "season2005_df.to_csv('scraped_data/2005_stats.csv', index=False, sep=',', encoding='utf-8')"
   ]
  },
  {
   "cell_type": "code",
   "execution_count": null,
   "metadata": {},
   "outputs": [],
   "source": [
    "final_df =pd.DataFrame(columns=final_df.columns)\n",
    "for i in range(1,500,50):\n",
    "\n",
    "    url = \"https://www.espn.com/mlb/history/leaders/_/breakdown/season/year/2004/start/{}\".format(i)\n",
    "    page = requests.get(url)\n",
    "    soup = BeautifulSoup(page.text, 'html.parser')\n",
    "\n",
    "    players = soup.find_all('tr', attrs={'class':re.compile('row player-10-')})\n",
    "    for player in players:\n",
    "\n",
    "        stats = [stat.get_text() for stat in player.find_all('td')]\n",
    "\n",
    "        temp_df = pd.DataFrame(stats).transpose()\n",
    "        temp_df.columns = columns\n",
    "\n",
    "        final_df = pd.concat([final_df, temp_df], ignore_index=True)\n",
    "\n",
    "season2004_df = final_df\n",
    "season2004_df"
   ]
  },
  {
   "cell_type": "code",
   "execution_count": null,
   "metadata": {},
   "outputs": [],
   "source": [
    "season2004_df.to_csv('scraped_data/2004_stats.csv', index=False, sep=',', encoding='utf-8')"
   ]
  },
  {
   "cell_type": "code",
   "execution_count": null,
   "metadata": {},
   "outputs": [],
   "source": [
    "final_df =pd.DataFrame(columns=final_df.columns)\n",
    "for i in range(1,500,50):\n",
    "    url = \"https://www.espn.com/mlb/history/leaders/_/breakdown/season/year/2003/start/{}\".format(i)\n",
    "    page = requests.get(url)\n",
    "    soup = BeautifulSoup(page.text, 'html.parser')\n",
    "\n",
    "    players = soup.find_all('tr', attrs={'class':re.compile('row player-10-')})\n",
    "    for player in players:\n",
    "\n",
    "        stats = [stat.get_text() for stat in player.find_all('td')]\n",
    "\n",
    "        temp_df = pd.DataFrame(stats).transpose()\n",
    "        temp_df.columns = columns\n",
    "\n",
    "        final_df = pd.concat([final_df, temp_df], ignore_index=True)\n",
    "\n",
    "season2003_df = final_df\n",
    "season2003_df"
   ]
  },
  {
   "cell_type": "code",
   "execution_count": null,
   "metadata": {},
   "outputs": [],
   "source": [
    "season2003_df.to_csv('scraped_data/2003_stats.csv', index=False, sep=',', encoding='utf-8')"
   ]
  },
  {
   "cell_type": "code",
   "execution_count": null,
   "metadata": {},
   "outputs": [],
   "source": [
    "final_df =pd.DataFrame(columns=final_df.columns)\n",
    "for i in range(1,500,50):\n",
    "\n",
    "    url = \"https://www.espn.com/mlb/history/leaders/_/breakdown/season/year/2002/start/{}\".format(i)\n",
    "    page = requests.get(url)\n",
    "    soup = BeautifulSoup(page.text, 'html.parser')\n",
    "\n",
    "    players = soup.find_all('tr', attrs={'class':re.compile('row player-10-')})\n",
    "    for player in players:\n",
    "\n",
    "        stats = [stat.get_text() for stat in player.find_all('td')]\n",
    "\n",
    "        temp_df = pd.DataFrame(stats).transpose()\n",
    "        temp_df.columns = columns\n",
    "\n",
    "        final_df = pd.concat([final_df, temp_df], ignore_index=True)\n",
    "\n",
    "season2002_df = final_df\n",
    "season2002_df"
   ]
  },
  {
   "cell_type": "code",
   "execution_count": null,
   "metadata": {},
   "outputs": [],
   "source": [
    "season2002_df.to_csv('scraped_data/2002_stats.csv', index=False, sep=',', encoding='utf-8')"
   ]
  },
  {
   "cell_type": "code",
   "execution_count": null,
   "metadata": {},
   "outputs": [],
   "source": [
    "final_df =pd.DataFrame(columns=final_df.columns)\n",
    "for i in range(1,500,50):\n",
    "\n",
    "    url = \"https://www.espn.com/mlb/history/leaders/_/breakdown/season/year/2001/start/{}\".format(i)\n",
    "    page = requests.get(url)\n",
    "    soup = BeautifulSoup(page.text, 'html.parser')\n",
    "\n",
    "    players = soup.find_all('tr', attrs={'class':re.compile('row player-10-')})\n",
    "    for player in players:\n",
    "\n",
    "        stats = [stat.get_text() for stat in player.find_all('td')]\n",
    "\n",
    "        temp_df = pd.DataFrame(stats).transpose()\n",
    "        temp_df.columns = columns\n",
    "\n",
    "        final_df = pd.concat([final_df, temp_df], ignore_index=True)\n",
    "\n",
    "season2001_df = final_df\n",
    "season2001_df"
   ]
  },
  {
   "cell_type": "code",
   "execution_count": null,
   "metadata": {},
   "outputs": [],
   "source": [
    "season2001_df.to_csv('scraped_data/2001_stats.csv', index=False, sep=',', encoding='utf-8')"
   ]
  },
  {
   "cell_type": "code",
   "execution_count": null,
   "metadata": {},
   "outputs": [],
   "source": [
    "final_df =pd.DataFrame(columns=final_df.columns)\n",
    "for i in range(1,500,50):\n",
    "\n",
    "    url = \"https://www.espn.com/mlb/history/leaders/_/breakdown/season/year/2000/start/{}\".format(i)\n",
    "    page = requests.get(url)\n",
    "    soup = BeautifulSoup(page.text, 'html.parser')\n",
    "\n",
    "    players = soup.find_all('tr', attrs={'class':re.compile('row player-10-')})\n",
    "    for player in players:\n",
    "\n",
    "        stats = [stat.get_text() for stat in player.find_all('td')]\n",
    "\n",
    "        temp_df = pd.DataFrame(stats).transpose()\n",
    "        temp_df.columns = columns\n",
    "\n",
    "        final_df = pd.concat([final_df, temp_df], ignore_index=True)\n",
    "\n",
    "season2000_df = final_df\n",
    "season2000_df"
   ]
  },
  {
   "cell_type": "code",
   "execution_count": null,
   "metadata": {},
   "outputs": [],
   "source": [
    "season2000_df.to_csv('scraped_data/2000_stats.csv', index=False, sep=',', encoding='utf-8')"
   ]
  }
 ],
 "metadata": {
  "kernelspec": {
   "display_name": "Python 3",
   "language": "python",
   "name": "python3"
  },
  "language_info": {
   "codemirror_mode": {
    "name": "ipython",
    "version": 3
   },
   "file_extension": ".py",
   "mimetype": "text/x-python",
   "name": "python",
   "nbconvert_exporter": "python",
   "pygments_lexer": "ipython3",
   "version": "3.7.6"
  }
 },
 "nbformat": 4,
 "nbformat_minor": 2
}
