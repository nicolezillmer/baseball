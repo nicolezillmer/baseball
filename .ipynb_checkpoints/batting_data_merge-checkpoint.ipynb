{
 "cells": [
  {
   "cell_type": "code",
   "execution_count": 2,
   "metadata": {},
   "outputs": [],
   "source": [
    "import pandas as pd"
   ]
  },
  {
   "cell_type": "code",
   "execution_count": 4,
   "metadata": {},
   "outputs": [],
   "source": [
    "batting_2000 = pd.read_csv('scraped_data/2000_stats.csv',encoding='utf-8')\n",
    "batting_2001= pd.read_csv('scraped_data/2001_stats.csv',encoding='utf-8')\n",
    "batting_2002= pd.read_csv('scraped_data/2002_stats.csv',encoding='utf-8')\n",
    "batting_2003= pd.read_csv('scraped_data/2003_stats.csv',encoding='utf-8')\n",
    "batting_2004= pd.read_csv('scraped_data/2004_stats.csv',encoding='utf-8')\n",
    "batting_2005= pd.read_csv('scraped_data/2005_stats.csv',encoding='utf-8')\n",
    "batting_2006= pd.read_csv('scraped_data/2006_stats.csv',encoding='utf-8')\n",
    "batting_2007= pd.read_csv('scraped_data/2007_stats.csv',encoding='utf-8')\n",
    "batting_2008= pd.read_csv('scraped_data/2008_stats.csv',encoding='utf-8')\n",
    "batting_2009= pd.read_csv('scraped_data/2009_stats.csv',encoding='utf-8')\n",
    "batting_2010= pd.read_csv('scraped_data/2010_stats.csv',encoding='utf-8')\n",
    "batting_2011= pd.read_csv('scraped_data/2011_stats.csv',encoding='utf-8')\n",
    "batting_2012= pd.read_csv('scraped_data/2012_stats.csv',encoding='utf-8')\n",
    "batting_2013= pd.read_csv('scraped_data/2013_stats.csv',encoding='utf-8')\n",
    "batting_2014= pd.read_csv('scraped_data/2014_stats.csv',encoding='utf-8')\n",
    "batting_2015= pd.read_csv('scraped_data/2015_stats.csv',encoding='utf-8')\n",
    "batting_2016= pd.read_csv('scraped_data/2016_stats.csv',encoding='utf-8')\n",
    "batting_2017= pd.read_csv('scraped_data/2017_stats.csv',encoding='utf-8')\n",
    "batting_2018= pd.read_csv('scraped_data/2018_stats.csv',encoding='utf-8')\n",
    "batting_2019= pd.read_csv('scraped_data/2019_stats.csv',encoding='utf-8')"
   ]
  },
  {
   "cell_type": "code",
   "execution_count": null,
   "metadata": {},
   "outputs": [],
   "source": [
    "batting_2000"
   ]
  }
 ],
 "metadata": {
  "kernelspec": {
   "display_name": "Python 3",
   "language": "python",
   "name": "python3"
  },
  "language_info": {
   "codemirror_mode": {
    "name": "ipython",
    "version": 3
   },
   "file_extension": ".py",
   "mimetype": "text/x-python",
   "name": "python",
   "nbconvert_exporter": "python",
   "pygments_lexer": "ipython3",
   "version": "3.6.10"
  }
 },
 "nbformat": 4,
 "nbformat_minor": 4
}
