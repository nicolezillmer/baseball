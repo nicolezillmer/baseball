{
 "metadata": {
  "language_info": {
   "codemirror_mode": {
    "name": "ipython",
    "version": 3
   },
   "file_extension": ".py",
   "mimetype": "text/x-python",
   "name": "python",
   "nbconvert_exporter": "python",
   "pygments_lexer": "ipython3",
   "version": "3.7.6-final"
  },
  "orig_nbformat": 2,
  "kernelspec": {
   "name": "Python 3.7.6 64-bit ('base': conda)",
   "display_name": "Python 3.7.6 64-bit ('base': conda)",
   "metadata": {
    "interpreter": {
     "hash": "4c11c4d99a886d1585462697b7e749170aaeb6bf97c8dc7bb19666e8ecbd8b34"
    }
   }
  }
 },
 "nbformat": 4,
 "nbformat_minor": 2,
 "cells": [
  {
   "cell_type": "code",
   "execution_count": 1,
   "metadata": {},
   "outputs": [],
   "source": [
    "import pandas as pd\n",
    "import re\n",
    "import requests\n",
    "from bs4 import BeautifulSoup"
   ]
  },
  {
   "cell_type": "code",
   "execution_count": 2,
   "metadata": {},
   "outputs": [],
   "source": [
    "url = \"https://www.espn.com/mlb/history/leaders/_/breakdown/season/year/2018/start/1\"\n",
    "page = requests.get(url)\n",
    "soup = BeautifulSoup(page.text, 'html.parser')"
   ]
  },
  {
   "cell_type": "code",
   "execution_count": 3,
   "metadata": {},
   "outputs": [
    {
     "output_type": "execute_result",
     "data": {
      "text/plain": [
       "Empty DataFrame\n",
       "Columns: [, PLAYER, YRS, G, AB, R, H, 2B, 3B, HR, RBI, BB, SO, SB, CS, BA]\n",
       "Index: []"
      ],
      "text/html": "<div>\n<style scoped>\n    .dataframe tbody tr th:only-of-type {\n        vertical-align: middle;\n    }\n\n    .dataframe tbody tr th {\n        vertical-align: top;\n    }\n\n    .dataframe thead th {\n        text-align: right;\n    }\n</style>\n<table border=\"1\" class=\"dataframe\">\n  <thead>\n    <tr style=\"text-align: right;\">\n      <th></th>\n      <th></th>\n      <th>PLAYER</th>\n      <th>YRS</th>\n      <th>G</th>\n      <th>AB</th>\n      <th>R</th>\n      <th>H</th>\n      <th>2B</th>\n      <th>3B</th>\n      <th>HR</th>\n      <th>RBI</th>\n      <th>BB</th>\n      <th>SO</th>\n      <th>SB</th>\n      <th>CS</th>\n      <th>BA</th>\n    </tr>\n  </thead>\n  <tbody>\n  </tbody>\n</table>\n</div>"
     },
     "metadata": {},
     "execution_count": 3
    }
   ],
   "source": [
    "header = soup.find('tr', attrs={'class':'colhead'})\n",
    "\n",
    "columns = [col.get_text() for col in header.find_all('td')]\n",
    "\n",
    "final_df = pd.DataFrame(columns=columns)\n",
    "final_df"
   ]
  },
  {
   "cell_type": "code",
   "execution_count": 4,
   "metadata": {},
   "outputs": [
    {
     "output_type": "execute_result",
     "data": {
      "text/plain": [
       "                    PLAYER YRS    G   AB    R    H  2B 3B  HR  RBI  BB   SO  \\\n",
       "0      1      Mookie Betts   6  136  520  129  180  47  5  32   80  81   91   \n",
       "1      2     J.D. Martinez   9  150  569  111  188  37  2  43  130  69  146   \n",
       "2      3       Jeff McNeil   2   63  225   35   74  11  6   3   19  14   24   \n",
       "3      4  Christian Yelich   7  147  574  118  187  34  7  36  110  68  135   \n",
       "4      5       Jose Altuve   9  137  534   84  169  29  2  13   61  55   79   \n",
       "..   ...               ...  ..  ...  ...  ...  ...  .. ..  ..  ...  ..  ...   \n",
       "326           Gary Sanchez   5   89  323   51   60  17  0  18   53  46   94   \n",
       "327  328     Aaron Altherr   6  105  243   28   44  11  1   8   38  36   91   \n",
       "328  329     Dexter Fowler  12   90  289   40   52  10  0   8   31  38   75   \n",
       "329  330        Sandy Leon   8   89  265   30   47  12  0   5   22  15   75   \n",
       "330  331       Chris Davis  12  128  470   40   79  12  0  16   49  41  192   \n",
       "\n",
       "     SB CS    BA  \n",
       "0    30  6  .346  \n",
       "1     6  1  .330  \n",
       "2     7  1  .329  \n",
       "3    22  4  .326  \n",
       "4    17  4  .316  \n",
       "..   .. ..   ...  \n",
       "326   1  0  .186  \n",
       "327   3  2  .181  \n",
       "328   5  2  .180  \n",
       "329   1  0  .177  \n",
       "330   2  0  .168  \n",
       "\n",
       "[331 rows x 16 columns]"
      ],
      "text/html": "<div>\n<style scoped>\n    .dataframe tbody tr th:only-of-type {\n        vertical-align: middle;\n    }\n\n    .dataframe tbody tr th {\n        vertical-align: top;\n    }\n\n    .dataframe thead th {\n        text-align: right;\n    }\n</style>\n<table border=\"1\" class=\"dataframe\">\n  <thead>\n    <tr style=\"text-align: right;\">\n      <th></th>\n      <th></th>\n      <th>PLAYER</th>\n      <th>YRS</th>\n      <th>G</th>\n      <th>AB</th>\n      <th>R</th>\n      <th>H</th>\n      <th>2B</th>\n      <th>3B</th>\n      <th>HR</th>\n      <th>RBI</th>\n      <th>BB</th>\n      <th>SO</th>\n      <th>SB</th>\n      <th>CS</th>\n      <th>BA</th>\n    </tr>\n  </thead>\n  <tbody>\n    <tr>\n      <th>0</th>\n      <td>1</td>\n      <td>Mookie Betts</td>\n      <td>6</td>\n      <td>136</td>\n      <td>520</td>\n      <td>129</td>\n      <td>180</td>\n      <td>47</td>\n      <td>5</td>\n      <td>32</td>\n      <td>80</td>\n      <td>81</td>\n      <td>91</td>\n      <td>30</td>\n      <td>6</td>\n      <td>.346</td>\n    </tr>\n    <tr>\n      <th>1</th>\n      <td>2</td>\n      <td>J.D. Martinez</td>\n      <td>9</td>\n      <td>150</td>\n      <td>569</td>\n      <td>111</td>\n      <td>188</td>\n      <td>37</td>\n      <td>2</td>\n      <td>43</td>\n      <td>130</td>\n      <td>69</td>\n      <td>146</td>\n      <td>6</td>\n      <td>1</td>\n      <td>.330</td>\n    </tr>\n    <tr>\n      <th>2</th>\n      <td>3</td>\n      <td>Jeff McNeil</td>\n      <td>2</td>\n      <td>63</td>\n      <td>225</td>\n      <td>35</td>\n      <td>74</td>\n      <td>11</td>\n      <td>6</td>\n      <td>3</td>\n      <td>19</td>\n      <td>14</td>\n      <td>24</td>\n      <td>7</td>\n      <td>1</td>\n      <td>.329</td>\n    </tr>\n    <tr>\n      <th>3</th>\n      <td>4</td>\n      <td>Christian Yelich</td>\n      <td>7</td>\n      <td>147</td>\n      <td>574</td>\n      <td>118</td>\n      <td>187</td>\n      <td>34</td>\n      <td>7</td>\n      <td>36</td>\n      <td>110</td>\n      <td>68</td>\n      <td>135</td>\n      <td>22</td>\n      <td>4</td>\n      <td>.326</td>\n    </tr>\n    <tr>\n      <th>4</th>\n      <td>5</td>\n      <td>Jose Altuve</td>\n      <td>9</td>\n      <td>137</td>\n      <td>534</td>\n      <td>84</td>\n      <td>169</td>\n      <td>29</td>\n      <td>2</td>\n      <td>13</td>\n      <td>61</td>\n      <td>55</td>\n      <td>79</td>\n      <td>17</td>\n      <td>4</td>\n      <td>.316</td>\n    </tr>\n    <tr>\n      <th>...</th>\n      <td>...</td>\n      <td>...</td>\n      <td>...</td>\n      <td>...</td>\n      <td>...</td>\n      <td>...</td>\n      <td>...</td>\n      <td>...</td>\n      <td>...</td>\n      <td>...</td>\n      <td>...</td>\n      <td>...</td>\n      <td>...</td>\n      <td>...</td>\n      <td>...</td>\n      <td>...</td>\n    </tr>\n    <tr>\n      <th>326</th>\n      <td></td>\n      <td>Gary Sanchez</td>\n      <td>5</td>\n      <td>89</td>\n      <td>323</td>\n      <td>51</td>\n      <td>60</td>\n      <td>17</td>\n      <td>0</td>\n      <td>18</td>\n      <td>53</td>\n      <td>46</td>\n      <td>94</td>\n      <td>1</td>\n      <td>0</td>\n      <td>.186</td>\n    </tr>\n    <tr>\n      <th>327</th>\n      <td>328</td>\n      <td>Aaron Altherr</td>\n      <td>6</td>\n      <td>105</td>\n      <td>243</td>\n      <td>28</td>\n      <td>44</td>\n      <td>11</td>\n      <td>1</td>\n      <td>8</td>\n      <td>38</td>\n      <td>36</td>\n      <td>91</td>\n      <td>3</td>\n      <td>2</td>\n      <td>.181</td>\n    </tr>\n    <tr>\n      <th>328</th>\n      <td>329</td>\n      <td>Dexter Fowler</td>\n      <td>12</td>\n      <td>90</td>\n      <td>289</td>\n      <td>40</td>\n      <td>52</td>\n      <td>10</td>\n      <td>0</td>\n      <td>8</td>\n      <td>31</td>\n      <td>38</td>\n      <td>75</td>\n      <td>5</td>\n      <td>2</td>\n      <td>.180</td>\n    </tr>\n    <tr>\n      <th>329</th>\n      <td>330</td>\n      <td>Sandy Leon</td>\n      <td>8</td>\n      <td>89</td>\n      <td>265</td>\n      <td>30</td>\n      <td>47</td>\n      <td>12</td>\n      <td>0</td>\n      <td>5</td>\n      <td>22</td>\n      <td>15</td>\n      <td>75</td>\n      <td>1</td>\n      <td>0</td>\n      <td>.177</td>\n    </tr>\n    <tr>\n      <th>330</th>\n      <td>331</td>\n      <td>Chris Davis</td>\n      <td>12</td>\n      <td>128</td>\n      <td>470</td>\n      <td>40</td>\n      <td>79</td>\n      <td>12</td>\n      <td>0</td>\n      <td>16</td>\n      <td>49</td>\n      <td>41</td>\n      <td>192</td>\n      <td>2</td>\n      <td>0</td>\n      <td>.168</td>\n    </tr>\n  </tbody>\n</table>\n<p>331 rows × 16 columns</p>\n</div>"
     },
     "metadata": {},
     "execution_count": 4
    }
   ],
   "source": [
    "for i in range(1,331,50):\n",
    "\n",
    "    url = \"https://www.espn.com/mlb/history/leaders/_/breakdown/season/year/2018/start/{}\".format(i)\n",
    "    page = requests.get(url)\n",
    "    soup = BeautifulSoup(page.text, 'html.parser')\n",
    "\n",
    "    players = soup.find_all('tr', attrs={'class':re.compile('row player-10-')})\n",
    "    for player in players:\n",
    "\n",
    "        stats = [stat.get_text() for stat in player.find_all('td')]\n",
    "\n",
    "        temp_df = pd.DataFrame(stats).transpose()\n",
    "        temp_df.columns = columns\n",
    "\n",
    "        final_df = pd.concat([final_df, temp_df], ignore_index=True)\n",
    "\n",
    "season2018_df = final_df\n",
    "season2018_df"
   ]
  },
  {
   "cell_type": "code",
   "execution_count": 7,
   "metadata": {},
   "outputs": [],
   "source": [
    "season2018_df.to_csv('scraped_data/2018_stats.csv', index=False, sep=',', encoding='utf-8')"
   ]
  },
  {
   "cell_type": "code",
   "execution_count": null,
   "metadata": {},
   "outputs": [],
   "source": []
  }
 ]
}